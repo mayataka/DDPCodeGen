{
 "cells": [
  {
   "cell_type": "markdown",
   "metadata": {},
   "source": [
    "## Formulation of the optimal control problem: Pendubot"
   ]
  },
  {
   "cell_type": "markdown",
   "metadata": {},
   "source": [
    "### Model description\n",
    "<img src=\"https://raw.github.com/wiki/mayataka/CGMRES/images/fig_pendubot.png\" width=25%>\n",
    "The above figure shows the model of a pendubot. The equation of the motion can be derived by the Lagrange's method as\n",
    "$$ \\ddot{\\theta}_1 = \\ddot{\\theta}_1 (\\theta_1, \\theta_2, \\dot{\\theta}_1, \\dot{\\theta}_2) ,$$\n",
    "$$ \\ddot{\\theta}_2 = \\ddot{\\theta}_2 (\\theta_1, \\theta_2, \\dot{\\theta}_1, \\dot{\\theta}_2) .$$\n",
    "We ommit to describe its details here because it is too complicated.\n",
    "We assume that the input of the pendubot is limited as  \n",
    "$$u_{\\rm min} \\leq u \\leq u_{\\rm max} , $$\n",
    "where $u_{\\rm min}, u_{\\rm max} \\in \\mathbb{R}$.\n",
    "\n",
    "### Formulation of the optimal control problem\n",
    "We define the state vector as\n",
    "$$ x = \\begin{bmatrix} \\theta_1 \\\\ \\theta_2 \\\\ \\dot{\\theta}_1 \\\\ \\dot{\\theta}_2 \\end{bmatrix} .$$\n",
    "The state equation is then given as \n",
    "$$\\dot{x} = f(t, x, u) = \\begin{bmatrix} \\dot{\\theta}_1 \\\\ \\dot{\\theta}_2 \\\\ \\ddot{\\theta}_1 (\\theta_1, \\theta_2, \\dot{\\theta}_1, \\dot{\\theta}_2) \\\\ \\ddot{\\theta}_2 (\\theta_1, \\theta_2, \\dot{\\theta}_1, \\dot{\\theta}_2) \\end{bmatrix} .$$\n",
    "To apply NMPC based on the C/GMRES method, we transform the inequality constraints into an equality constraint by introducing a virtual control input $u_{\\rm dummy} \\in \\mathbb{R}$. The transformed equality constraint is then given by\n",
    "$$C(t, x, u) = u^2 + u_{\\rm dummy}^2 - (\\frac{u_{\\rm max} - u_{\\rm min}}{2})^2 = 0, $$\n",
    "where $u_{\\rm dummy} \\in \\mathbb{R}$.  \n",
    "Next, we set the cost function \n",
    "$$ J = \\varphi(t, x) + \\int_{t}^{t+T} L(t, x, u) .$$\n",
    "The objective is to invert the pendubot and stabilize it. In other words, we want to converge the state of the pendubot to\n",
    "$$x_{\\rm ref} := \\begin{bmatrix} \\pi \\\\ 0 \\\\ 0 \\\\ 0 \\end{bmatrix}.$$  \n",
    "To achieve this goal, we set the terminal cost as\n",
    "$$\\varphi(t,x) = \\frac{1}{2} (x - x_{\\rm ref})^{\\rm T} Q_{\\rm terminal} (x - x_{\\rm ref}) ,$$  \n",
    "where $Q_{\\rm terminal} = {\\rm diag}\\left\\{ {q_{\\rm terminal}}_1, {q_{\\rm terminal}}_2, {q_{\\rm terminal}}_3, {q_{\\rm terminal}}_4 \\right\\}$ and ${q_{\\rm terminal}}_1, {q_{\\rm terminal}}_2, {q_{\\rm terminal}}_3, {q_{\\rm terminal}}_4$ are positive real constants. We also set the stage cost as  \n",
    "$$L(t, x, u) = \\frac{1}{2} (x - x_{\\rm ref})^{\\rm T} Q (x - x_{\\rm ref}) + \\frac{1}{2} r u^2 - r_{\\rm dummy} u_{\\rm dummy},$$  \n",
    "where $Q = {\\rm diag} \\left\\{ q_1, q_2, q_3, q_4 \\right\\}$ with positive real constants $q_1, q_2, q_3, q_4$, $r$ is positive real constant, and $r_{\\rm dummy}$ is so, too. Note that the term $- r_{\\rm dummy} u_{\\rm dummy}$ is to determine the sign of $u_{\\rm dummy}$ uniquely.\n",
    "\n",
    "\n",
    "### Numerical solver of NMPC\n",
    "In the following example, we compute the solution of NMPC using the multiple shooting based C/GMRES method with condensing of state and variables with respect to the constraints on the saturation of the control input. That is, $u_{\\rm dummy}$ and $\\mu$, the Lagrange multiplier associated with $C(t, x, u) = u^2 + u_{\\rm dummy}^2 - (\\frac{u_{\\rm max} - u_{\\rm min}}{2})^2 = 0$ are condensed."
   ]
  },
  {
   "cell_type": "markdown",
   "metadata": {},
   "source": [
    "---\n",
    "\n",
    "# Generate C++ codes of NMPC model  "
   ]
  },
  {
   "cell_type": "markdown",
   "metadata": {},
   "source": [
    "## Import modules"
   ]
  },
  {
   "cell_type": "code",
   "execution_count": null,
   "metadata": {},
   "outputs": [],
   "source": [
    "from ddpcodegen import ddpcodegen"
   ]
  },
  {
   "cell_type": "markdown",
   "metadata": {},
   "source": [
    "## Set dimensions and define `DDPCodeGen`\n",
    "- `dimx`: Dimension of the state vector $x$   \n",
    "- `dimu`: Dimension of the control input vector $u$  \n",
    "- `model_name`: Name of the model. Used as the name of the directory containing the generated C++ source files."
   ]
  },
  {
   "cell_type": "code",
   "execution_count": null,
   "metadata": {},
   "outputs": [],
   "source": [
    "dimx = 4\n",
    "dimu = 1\n",
    "model_name = 'pendubot'\n",
    "dg = ddpcodegen.DDPCodeGen(model_name, dimx, dimu)"
   ]
  },
  {
   "cell_type": "markdown",
   "metadata": {},
   "source": [
    "## Generate t, x, and u, necessary variables to formulate of the optimal control problem\n",
    "- `t`: Time parameter $t$  \n",
    "- `x`: The state vector $x$  \n",
    "- `u`: The control input vector $u$  "
   ]
  },
  {
   "cell_type": "code",
   "execution_count": null,
   "metadata": {},
   "outputs": [],
   "source": [
    "t = dg.define_t()\n",
    "x = dg.define_x()\n",
    "u = dg.define_u()"
   ]
  },
  {
   "cell_type": "markdown",
   "metadata": {},
   "source": [
    "## Define variables used in the state equation, constraints, and cost function\n",
    "- Define a scalar variable whose name is \"var\" as  \n",
    "`var = ag.define_scalar_var('var') `\n",
    "\n",
    "- Define scalar variables whose names are \"var\\_1\", \"var\\_2\", ..., \"var\\_n\" as  \n",
    "`var_1, var_2, ..., var_n = ag.define_scalar_vars('var_1', 'var_2', ..., 'var_n')`\n",
    "\n",
    "- Define array variables whose name is \"vec\" and dimension is dim_vec as  \n",
    "`vec = ag.define_array_var('vec', dim_vec)`"
   ]
  },
  {
   "cell_type": "code",
   "execution_count": null,
   "metadata": {},
   "outputs": [],
   "source": [
    "# Variables used in the state function\n",
    "m1, m2, l1, l2, d1, d2, J1, J2, g = dg.define_scalar_vars('m1', 'm2', 'l1', 'l2', 'd1', 'd2', 'J1', 'J2', 'g')\n",
    "\n",
    "# Variables used in the constraints on the control input\n",
    "u_min, u_max, u_eps = dg.define_scalar_vars('u_min', 'u_max', 'u_eps')\n",
    "\n",
    "# Variables used in the cost function\n",
    "q = dg.define_array_var('q', dimx)\n",
    "q_terminal = dg.define_array_var('q_terminal', dimx)\n",
    "x_ref = dg.define_array_var('x_ref', dimx)\n",
    "r = dg.define_array_var('r', dimu)"
   ]
  },
  {
   "cell_type": "markdown",
   "metadata": {},
   "source": [
    "## Define the state equation, constraints, the stage cost, and the terminal cost\n",
    "- `f`: The state equation $ f(t, x, u)$  \n",
    "- `C`: The equality constraisnts $C(t, x, u) = 0 $  \n",
    "- `h`: The inequality constraisnts $h(t, x, u) \\leq 0$ considered by semi-smooth Fischer-Burumeister method  \n",
    "- `L`: The stage cost $L(t, x, u)$  \n",
    "- `phi`: The terminal cost $\\phi (t, x)$  \n",
    "\n",
    "Note: array indices start with 0"
   ]
  },
  {
   "cell_type": "code",
   "execution_count": null,
   "metadata": {},
   "outputs": [],
   "source": [
    "# Import symbolic math from sympy. If you need more functions, import same as below.\n",
    "from sympy import sin, cos, tan, exp, log, ln, sinh, cosh, tanh, diff, sqrt"
   ]
  },
  {
   "cell_type": "code",
   "execution_count": null,
   "metadata": {},
   "outputs": [],
   "source": [
    "# Define the state equation\n",
    "f = [x[2], \n",
    "     x[3],\n",
    "     -(sin(x[0] + x[1]) * d2 * g * m2 + g * (d1 * m1 + l1 * m2) * sin(x[0]) - 0.2e1 * d2 * (x[2] + x[3] / 0.2e1) * l1 * x[3] * m2 * sin(x[1]) - u[0]) / (0.2e1 * d2 * m2 * l1 * cos(x[1]) + d1 * d1 * m1 + d2 * d2 * m2 + l1 * l1 * m2 + J1 + J2), \n",
    "     (g * d2 * l1 * m2 * (d1 * m1 + l1 * m2) * sin(x[0] - x[1]) / 0.2e1 - d2 * d2 * g * l1 * m2 * m2 * sin(x[0] + 0.2e1 * x[1]) / 0.2e1 - (d1 * d1 * m1 - d1 * l1 * m1 / 0.2e1 + l1 * l1 * m2 / 0.2e1 + J1) * m2 * g * d2 * sin(x[0] + x[1]) - l1 * l1 * m2 * m2 * d2 * d2 * (pow(x[2], 0.2e1) + x[2] * x[3] + pow(x[3], 0.2e1) / 0.2e1) * sin(0.2e1 * x[1]) - l1 * m2 * d2 * ((pow(x[2] + x[3], 0.2e1) * d2 * d2 + pow(x[2], 0.2e1) * l1 * l1) * m2 + (d1 * d1 * m1 + J1 + J2) * pow(x[2], 0.2e1) + 0.2e1 * J2 * x[2] * x[3] + J2 * pow(x[3], 0.2e1)) * sin(x[1]) + g * (d2 * d2 * l1 * m2 * m2 / 0.2e1 + (d1 * d2 * d2 * m1 + J2 * l1) * m2 + J2 * d1 * m1) * sin(x[0]) - u[0] * (d2 * m2 * l1 * cos(x[1]) + d2 * d2 * m2 + J2)) / (0.2e1 * d2 * m2 * l1 * cos(x[1]) + d1 * d1 * m1 + d2 * d2 * m2 + l1 * l1 * m2 + J1 + J2) / (d2 * d2 * m2 + J2)]\n",
    "\n",
    "# Define barrier function for inequality constriants on control input\n",
    "u_barrier = sum(-ln(u[i]-u_min) - ln(u_max-u[i]) for i in range(dimu))\n",
    "    \n",
    "# Define the stage cost\n",
    "L = sum(q[i]*(x[i] - x_ref[i])**2 for i in range(dimx))/2 + sum(r[i] * u[i]**2 for i in range(dimu))/2 + u_barrier\n",
    "\n",
    "# Define the terminal cost\n",
    "phi = sum(q_terminal[i]*(x[i] - x_ref[i])**2 for i in range(dimx))/2"
   ]
  },
  {
   "cell_type": "code",
   "execution_count": null,
   "metadata": {},
   "outputs": [],
   "source": [
    "# Variables used in the constraints on the control input\n",
    "dg.set_functions(f, L, phi)"
   ]
  },
  {
   "cell_type": "markdown",
   "metadata": {},
   "source": [
    "## Set Parameters\n",
    "Set values for all parameters you defined.\n",
    "- Set `value` for a scalar variable whose name is \"var\" as  \n",
    "`ag.set_scalar_var('var', value) `\n",
    "\n",
    "- Set `value_1`, `value_2`, ..., `value_n`, for scalar variables whose names are \"var\\_1\", \"var\\_2\", ..., \"var\\_n\" as  \n",
    "`ag.set_scalar_vars(['var_1', value_1], ['var_2', value_2], ..., ['var_n', value_n])`\n",
    "\n",
    "- Set array variables `var_1`, `var_2`, ..., `var_n` whose name is \"vec\" and dimension is n as  \n",
    "`ag.define_array_var('vec', [var_1, var_2, ..., var_n])`"
   ]
  },
  {
   "cell_type": "code",
   "execution_count": null,
   "metadata": {},
   "outputs": [],
   "source": [
    "dg.set_scalar_vars(['m1', 0.2], ['m2', 0.7], ['l1', 0.3], ['l2', 0.3], \n",
    "                   ['d1', 0.15], ['d2', 0.257], ['J1', 0.006], ['J2', 0.051], ['g', 9.80665],\n",
    "                   ['u_min', -5], ['u_max', 5], ['u_eps', 0.00001])\n",
    "dg.set_array_var('q', [1, 1, 0.1, 0.1])\n",
    "dg.set_array_var('r', [0.1])\n",
    "dg.set_array_var('q_terminal', [1, 1, 0.1, 0.1])\n",
    "dg.set_array_var('x_ref', ['M_PI', 0, 0, 0])"
   ]
  },
  {
   "cell_type": "markdown",
   "metadata": {},
   "source": [
    "## Generate C++ codes of NMPC model\n",
    "Generate `nmpc_model.hpp` and `nmpc_model.cpp`, C++ source files of NMPC problem settings.  \n",
    "- `use_simplification`: The flag for simplification. If `True`, symbolic functions are simplified. However, if functions are too complicated, it takes too much time. Default is `False`.  \n",
    "- `use_case`: The flag for common subexpression elimination. If `True`, common subexpressions in fxu, phix, hx, and hu are eliminated when `nmpc_model.cpp` is generated. Default is `False`. "
   ]
  },
  {
   "cell_type": "code",
   "execution_count": null,
   "metadata": {},
   "outputs": [],
   "source": [
    "use_simplification = False\n",
    "use_cse = True\n",
    "\n",
    "dg.generate_source_files(use_simplification, use_cse)"
   ]
  },
  {
   "cell_type": "markdown",
   "metadata": {},
   "source": [
    "---  \n",
    "# Generate C++ codes for numerical simulation  "
   ]
  },
  {
   "cell_type": "markdown",
   "metadata": {},
   "source": [
    "## Set parameters for the length of the horizon\n",
    "\n",
    "- `T_f`, `alpha`: Parameters for the length of the horizon $T(t)$: $T(t) = T_f (1 - e^{-\\alpha t})$. The length of the horizon converges to `T_f` and the speed of the convergence is determied by `alpha`. \n",
    "- `N`: The division number of the horzion for the numerical computation.  "
   ]
  },
  {
   "cell_type": "code",
   "execution_count": null,
   "metadata": {
    "code_folding": []
   },
   "outputs": [],
   "source": [
    "T_f = 1.0\n",
    "alpha = 1.0\n",
    "N = 50\n",
    "\n",
    "dg.set_solver_parameters(T_f, alpha, N)"
   ]
  },
  {
   "cell_type": "markdown",
   "metadata": {},
   "source": [
    "## Set parameters for the initialization of the solution  \n",
    "- `solution_initial_guess`: The initial guess of the solution of the optimal control problem (OCP) for initialization of the solution of NMPC.  "
   ]
  },
  {
   "cell_type": "code",
   "execution_count": null,
   "metadata": {},
   "outputs": [],
   "source": [
    "solution_initial_guess = [0]\n",
    "\n",
    "dg.set_solution_initial_guess(solution_initial_guess)"
   ]
  },
  {
   "cell_type": "markdown",
   "metadata": {},
   "source": [
    "## Set parameters for numerical simulation\n",
    "- `initial_time`: Initial time of the numerical simulation.  \n",
    "- `initial_state`: Initial state vector of the system.  \n",
    "- `simulation_time`: Simulation time of the numerical simulation.  \n",
    "- `sampling_time`: The sampling time of the numerical simulation."
   ]
  },
  {
   "cell_type": "code",
   "execution_count": null,
   "metadata": {},
   "outputs": [],
   "source": [
    "initial_time = 0  \n",
    "initial_state = [0, 0, 0, 0]  \n",
    "simulation_time = 10\n",
    "sampling_time = 0.001  \n",
    "\n",
    "dg.set_simulation_parameters(initial_time, initial_state, simulation_time, sampling_time)"
   ]
  },
  {
   "cell_type": "markdown",
   "metadata": {},
   "source": [
    "## Generate main.cpp and CMakeLists.txt"
   ]
  },
  {
   "cell_type": "code",
   "execution_count": null,
   "metadata": {
    "scrolled": true
   },
   "outputs": [],
   "source": [
    "dg.generate_main()\n",
    "dg.generate_cmake()"
   ]
  },
  {
   "cell_type": "markdown",
   "metadata": {},
   "source": [
    "## Build and run simulation\n",
    "\n",
    "- `generator`: An optional variable for Windows user to choose the generator of CMake. If 'MSYS', then 'MSYS Makefiles' is used. If 'MinGW', then 'MinGW Makefiles' is used. The default value is 'Auto' and the generator is selected automatically. If sh.exe exists in your PATH, MSYS is choosed, and otherwise MinGW is used. \n",
    "- `remove_build_dir`: If `True`, the existing build directory is removed. If `False`, the build directory is not removed. Need to be set `True` if you change the generator. Default is `False`."
   ]
  },
  {
   "cell_type": "code",
   "execution_count": null,
   "metadata": {},
   "outputs": [],
   "source": [
    "generator = 'Auto'  \n",
    "remove_build_dir = False\n",
    "dg.build(generator, remove_build_dir)\n",
    "dg.run_simulation()"
   ]
  },
  {
   "cell_type": "markdown",
   "metadata": {},
   "source": [
    "## Plot the simulation results"
   ]
  },
  {
   "cell_type": "code",
   "execution_count": null,
   "metadata": {},
   "outputs": [],
   "source": [
    "import ddpcodegen.simulation_plottor as simplot"
   ]
  },
  {
   "cell_type": "code",
   "execution_count": null,
   "metadata": {},
   "outputs": [],
   "source": [
    "plot = simplot.SimulationPlottor(model_name)\n",
    "plot.set_scales(2,5,2)\n",
    "# plot.show_plots()\n",
    "plot.save_plots()"
   ]
  },
  {
   "cell_type": "markdown",
   "metadata": {},
   "source": [
    "## Draw animations of the simulation results"
   ]
  },
  {
   "cell_type": "code",
   "execution_count": null,
   "metadata": {},
   "outputs": [],
   "source": [
    "import ddpcodegen.animation_generator as animgen"
   ]
  },
  {
   "cell_type": "code",
   "execution_count": null,
   "metadata": {},
   "outputs": [],
   "source": [
    "anim = animgen.TwoLinkArm(model_name)\n",
    "anim.set_skip_frames(10)\n",
    "anim.generate_animation()"
   ]
  }
 ],
 "metadata": {
  "kernelspec": {
   "display_name": "Python 3",
   "language": "python",
   "name": "python3"
  },
  "language_info": {
   "codemirror_mode": {
    "name": "ipython",
    "version": 3
   },
   "file_extension": ".py",
   "mimetype": "text/x-python",
   "name": "python",
   "nbconvert_exporter": "python",
   "pygments_lexer": "ipython3",
   "version": "3.6.9"
  },
  "toc": {
   "base_numbering": 1,
   "nav_menu": {},
   "number_sections": true,
   "sideBar": true,
   "skip_h1_title": false,
   "title_cell": "Table of Contents",
   "title_sidebar": "Contents",
   "toc_cell": false,
   "toc_position": {},
   "toc_section_display": true,
   "toc_window_display": false
  }
 },
 "nbformat": 4,
 "nbformat_minor": 4
}
