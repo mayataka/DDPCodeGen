{
 "cells": [
  {
   "cell_type": "markdown",
   "metadata": {},
   "source": [
    "# AutoGenU for Jupyter\n",
    "\n",
    "An Automatic C++ Code Generator for Nonlinear Model Predictive Control (NMPC)  \n",
    "\n",
    "---  "
   ]
  },
  {
   "cell_type": "markdown",
   "metadata": {},
   "source": [
    "## Formulation of the optimal control problem: Pendubot"
   ]
  },
  {
   "cell_type": "markdown",
   "metadata": {},
   "source": [
    "### Model description\n",
    "<img src=\"https://raw.github.com/wiki/mayataka/CGMRES/images/fig_pendubot.png\" width=25%>\n",
    "The above figure shows the model of a pendubot. The equation of the motion can be derived by the Lagrange's method as\n",
    "$$ \\ddot{\\theta}_1 = \\ddot{\\theta}_1 (\\theta_1, \\theta_2, \\dot{\\theta}_1, \\dot{\\theta}_2) ,$$\n",
    "$$ \\ddot{\\theta}_2 = \\ddot{\\theta}_2 (\\theta_1, \\theta_2, \\dot{\\theta}_1, \\dot{\\theta}_2) .$$\n",
    "We ommit to describe its details here because it is too complicated.\n",
    "We assume that the input of the pendubot is limited as  \n",
    "$$u_{\\rm min} \\leq u \\leq u_{\\rm max} , $$\n",
    "where $u_{\\rm min}, u_{\\rm max} \\in \\mathbb{R}$.\n",
    "\n",
    "### Formulation of the optimal control problem\n",
    "We define the state vector as\n",
    "$$ x = \\begin{bmatrix} \\theta_1 \\\\ \\theta_2 \\\\ \\dot{\\theta}_1 \\\\ \\dot{\\theta}_2 \\end{bmatrix} .$$\n",
    "The state equation is then given as \n",
    "$$\\dot{x} = f(t, x, u) = \\begin{bmatrix} \\dot{\\theta}_1 \\\\ \\dot{\\theta}_2 \\\\ \\ddot{\\theta}_1 (\\theta_1, \\theta_2, \\dot{\\theta}_1, \\dot{\\theta}_2) \\\\ \\ddot{\\theta}_2 (\\theta_1, \\theta_2, \\dot{\\theta}_1, \\dot{\\theta}_2) \\end{bmatrix} .$$\n",
    "To apply NMPC based on the C/GMRES method, we transform the inequality constraints into an equality constraint by introducing a virtual control input $u_{\\rm dummy} \\in \\mathbb{R}$. The transformed equality constraint is then given by\n",
    "$$C(t, x, u) = u^2 + u_{\\rm dummy}^2 - (\\frac{u_{\\rm max} - u_{\\rm min}}{2})^2 = 0, $$\n",
    "where $u_{\\rm dummy} \\in \\mathbb{R}$.  \n",
    "Next, we set the cost function \n",
    "$$ J = \\varphi(t, x) + \\int_{t}^{t+T} L(t, x, u) .$$\n",
    "The objective is to invert the pendubot and stabilize it. In other words, we want to converge the state of the pendubot to\n",
    "$$x_{\\rm ref} := \\begin{bmatrix} \\pi \\\\ 0 \\\\ 0 \\\\ 0 \\end{bmatrix}.$$  \n",
    "To achieve this goal, we set the terminal cost as\n",
    "$$\\varphi(t,x) = \\frac{1}{2} (x - x_{\\rm ref})^{\\rm T} Q_{\\rm terminal} (x - x_{\\rm ref}) ,$$  \n",
    "where $Q_{\\rm terminal} = {\\rm diag}\\left\\{ {q_{\\rm terminal}}_1, {q_{\\rm terminal}}_2, {q_{\\rm terminal}}_3, {q_{\\rm terminal}}_4 \\right\\}$ and ${q_{\\rm terminal}}_1, {q_{\\rm terminal}}_2, {q_{\\rm terminal}}_3, {q_{\\rm terminal}}_4$ are positive real constants. We also set the stage cost as  \n",
    "$$L(t, x, u) = \\frac{1}{2} (x - x_{\\rm ref})^{\\rm T} Q (x - x_{\\rm ref}) + \\frac{1}{2} r u^2 - r_{\\rm dummy} u_{\\rm dummy},$$  \n",
    "where $Q = {\\rm diag} \\left\\{ q_1, q_2, q_3, q_4 \\right\\}$ with positive real constants $q_1, q_2, q_3, q_4$, $r$ is positive real constant, and $r_{\\rm dummy}$ is so, too. Note that the term $- r_{\\rm dummy} u_{\\rm dummy}$ is to determine the sign of $u_{\\rm dummy}$ uniquely.\n",
    "\n",
    "\n",
    "### Numerical solver of NMPC\n",
    "In the following example, we compute the solution of NMPC using the multiple shooting based C/GMRES method with condensing of state and variables with respect to the constraints on the saturation of the control input. That is, $u_{\\rm dummy}$ and $\\mu$, the Lagrange multiplier associated with $C(t, x, u) = u^2 + u_{\\rm dummy}^2 - (\\frac{u_{\\rm max} - u_{\\rm min}}{2})^2 = 0$ are condensed."
   ]
  },
  {
   "cell_type": "markdown",
   "metadata": {},
   "source": [
    "---\n",
    "\n",
    "# Generate C++ codes of NMPC model  "
   ]
  },
  {
   "cell_type": "markdown",
   "metadata": {},
   "source": [
    "## Import modules"
   ]
  },
  {
   "cell_type": "code",
   "execution_count": 1,
   "metadata": {},
   "outputs": [],
   "source": [
    "from autogenu import autogenu"
   ]
  },
  {
   "cell_type": "markdown",
   "metadata": {},
   "source": [
    "## Set dimensions and define `AutoGenU`\n",
    "- `dimx`: Dimension of the state vector $x$   \n",
    "- `dimu`: Dimension of the control input vector $u$  \n",
    "- `model_name`: Name of the model. Used as the name of the directory containing the generated C++ source files."
   ]
  },
  {
   "cell_type": "code",
   "execution_count": 2,
   "metadata": {},
   "outputs": [],
   "source": [
    "dimx = 4\n",
    "dimu = 1\n",
    "model_name = 'pendubot'\n",
    "ag = autogenu.AutoGenU(model_name, dimx, dimu)"
   ]
  },
  {
   "cell_type": "markdown",
   "metadata": {},
   "source": [
    "## Generate t, x, and u, necessary variables to formulate of the optimal control problem\n",
    "- `t`: Time parameter $t$  \n",
    "- `x`: The state vector $x$  \n",
    "- `u`: The control input vector $u$  "
   ]
  },
  {
   "cell_type": "code",
   "execution_count": 3,
   "metadata": {},
   "outputs": [],
   "source": [
    "t = ag.define_t()\n",
    "x = ag.define_x()\n",
    "u = ag.define_u()"
   ]
  },
  {
   "cell_type": "markdown",
   "metadata": {},
   "source": [
    "## Define variables used in the state equation, constraints, and cost function\n",
    "- Define a scalar variable whose name is \"var\" as  \n",
    "`var = ag.define_scalar_var('var') `\n",
    "\n",
    "- Define scalar variables whose names are \"var\\_1\", \"var\\_2\", ..., \"var\\_n\" as  \n",
    "`var_1, var_2, ..., var_n = ag.define_scalar_vars('var_1', 'var_2', ..., 'var_n')`\n",
    "\n",
    "- Define array variables whose name is \"vec\" and dimension is dim_vec as  \n",
    "`vec = ag.define_array_var('vec', dim_vec)`"
   ]
  },
  {
   "cell_type": "code",
   "execution_count": 4,
   "metadata": {},
   "outputs": [],
   "source": [
    "# Variables used in the state function\n",
    "m1, m2, l1, l2, d1, d2, J1, J2, g = ag.define_scalar_vars('m1', 'm2', 'l1', 'l2', 'd1', 'd2', 'J1', 'J2', 'g')\n",
    "\n",
    "# Variables used in the cost function\n",
    "q = ag.define_array_var('q', dimx)\n",
    "q_terminal = ag.define_array_var('q_terminal', dimx)\n",
    "x_ref = ag.define_array_var('x_ref', dimx)\n",
    "r = ag.define_array_var('r', dimu)"
   ]
  },
  {
   "cell_type": "markdown",
   "metadata": {},
   "source": [
    "## Define the state equation, constraints, the stage cost, and the terminal cost\n",
    "- `f`: The state equation $ f(t, x, u)$  \n",
    "- `C`: The equality constraisnts $C(t, x, u) = 0 $  \n",
    "- `h`: The inequality constraisnts $h(t, x, u) \\leq 0$ considered by semi-smooth Fischer-Burumeister method  \n",
    "- `L`: The stage cost $L(t, x, u)$  \n",
    "- `phi`: The terminal cost $\\phi (t, x)$  \n",
    "\n",
    "Note: array indices start with 0"
   ]
  },
  {
   "cell_type": "code",
   "execution_count": 5,
   "metadata": {},
   "outputs": [],
   "source": [
    "# Import symbolic math from sympy. If you need more functions, import same as below.\n",
    "from sympy import sin, cos, tan, exp, log, sinh, cosh, tanh, diff, sqrt"
   ]
  },
  {
   "cell_type": "code",
   "execution_count": 6,
   "metadata": {},
   "outputs": [],
   "source": [
    "# Define the state equation\n",
    "f = [x[2], \n",
    "     x[3],\n",
    "     -(sin(x[0] + x[1]) * d2 * g * m2 + g * (d1 * m1 + l1 * m2) * sin(x[0]) - 0.2e1 * d2 * (x[2] + x[3] / 0.2e1) * l1 * x[3] * m2 * sin(x[1]) - u[0]) / (0.2e1 * d2 * m2 * l1 * cos(x[1]) + d1 * d1 * m1 + d2 * d2 * m2 + l1 * l1 * m2 + J1 + J2), \n",
    "     (g * d2 * l1 * m2 * (d1 * m1 + l1 * m2) * sin(x[0] - x[1]) / 0.2e1 - d2 * d2 * g * l1 * m2 * m2 * sin(x[0] + 0.2e1 * x[1]) / 0.2e1 - (d1 * d1 * m1 - d1 * l1 * m1 / 0.2e1 + l1 * l1 * m2 / 0.2e1 + J1) * m2 * g * d2 * sin(x[0] + x[1]) - l1 * l1 * m2 * m2 * d2 * d2 * (pow(x[2], 0.2e1) + x[2] * x[3] + pow(x[3], 0.2e1) / 0.2e1) * sin(0.2e1 * x[1]) - l1 * m2 * d2 * ((pow(x[2] + x[3], 0.2e1) * d2 * d2 + pow(x[2], 0.2e1) * l1 * l1) * m2 + (d1 * d1 * m1 + J1 + J2) * pow(x[2], 0.2e1) + 0.2e1 * J2 * x[2] * x[3] + J2 * pow(x[3], 0.2e1)) * sin(x[1]) + g * (d2 * d2 * l1 * m2 * m2 / 0.2e1 + (d1 * d2 * d2 * m1 + J2 * l1) * m2 + J2 * d1 * m1) * sin(x[0]) - u[0] * (d2 * m2 * l1 * cos(x[1]) + d2 * d2 * m2 + J2)) / (0.2e1 * d2 * m2 * l1 * cos(x[1]) + d1 * d1 * m1 + d2 * d2 * m2 + l1 * l1 * m2 + J1 + J2) / (d2 * d2 * m2 + J2)]\n",
    "\n",
    "# Define the constraints\n",
    "C = []\n",
    "\n",
    "# Define the inequality constraints considered using the semi-smooth Fischer-Burmeister method\n",
    "h = []\n",
    "       \n",
    "# Define the stage cost\n",
    "L = sum(q[i]*(x[i] - x_ref[i])**2 for i in range(dimx))/2 + sum(r[i] * u[i]**2 for i in range(dimu))/2 \n",
    "\n",
    "# Define the terminal cost\n",
    "phi = sum(q_terminal[i]*(x[i] - x_ref[i])**2 for i in range(dimx))/2"
   ]
  },
  {
   "cell_type": "code",
   "execution_count": 7,
   "metadata": {},
   "outputs": [
    {
     "ename": "TypeError",
     "evalue": "set_functions() takes 4 positional arguments but 6 were given",
     "output_type": "error",
     "traceback": [
      "\u001b[0;31m---------------------------------------------------------------------------\u001b[0m",
      "\u001b[0;31mTypeError\u001b[0m                                 Traceback (most recent call last)",
      "\u001b[0;32m<ipython-input-7-48657dc4d3be>\u001b[0m in \u001b[0;36m<module>\u001b[0;34m\u001b[0m\n\u001b[1;32m      1\u001b[0m \u001b[0;31m# Set functions\u001b[0m\u001b[0;34m\u001b[0m\u001b[0;34m\u001b[0m\u001b[0;34m\u001b[0m\u001b[0m\n\u001b[0;32m----> 2\u001b[0;31m \u001b[0mag\u001b[0m\u001b[0;34m.\u001b[0m\u001b[0mset_functions\u001b[0m\u001b[0;34m(\u001b[0m\u001b[0mf\u001b[0m\u001b[0;34m,\u001b[0m \u001b[0mC\u001b[0m\u001b[0;34m,\u001b[0m \u001b[0mh\u001b[0m\u001b[0;34m,\u001b[0m \u001b[0mL\u001b[0m\u001b[0;34m,\u001b[0m \u001b[0mphi\u001b[0m\u001b[0;34m)\u001b[0m\u001b[0;34m\u001b[0m\u001b[0;34m\u001b[0m\u001b[0m\n\u001b[0m",
      "\u001b[0;31mTypeError\u001b[0m: set_functions() takes 4 positional arguments but 6 were given"
     ]
    }
   ],
   "source": [
    "# Set functions\n",
    "ag.set_functions(f, L, phi)"
   ]
  },
  {
   "cell_type": "markdown",
   "metadata": {},
   "source": [
    "## Set Parameters\n",
    "Set values for all parameters you defined.\n",
    "- Set `value` for a scalar variable whose name is \"var\" as  \n",
    "`ag.set_scalar_var('var', value) `\n",
    "\n",
    "- Set `value_1`, `value_2`, ..., `value_n`, for scalar variables whose names are \"var\\_1\", \"var\\_2\", ..., \"var\\_n\" as  \n",
    "`ag.set_scalar_vars(['var_1', value_1], ['var_2', value_2], ..., ['var_n', value_n])`\n",
    "\n",
    "- Set array variables `var_1`, `var_2`, ..., `var_n` whose name is \"vec\" and dimension is n as  \n",
    "`ag.define_array_var('vec', [var_1, var_2, ..., var_n])`"
   ]
  },
  {
   "cell_type": "code",
   "execution_count": null,
   "metadata": {},
   "outputs": [],
   "source": [
    "ag.set_scalar_vars(['m1', 0.2], ['m2', 0.7], ['l1', 0.3], ['l2', 0.3], \n",
    "                   ['d1', 0.15], ['d2', 0.257], ['J1', 0.006], ['J2', 0.051], ['g', 9.80665])\n",
    "ag.set_array_var('q', [1, 1, 0.1, 0.1])\n",
    "ag.set_array_var('r', [0.1])\n",
    "ag.set_array_var('q_terminal', [1, 1, 0.1, 0.1])\n",
    "ag.set_array_var('x_ref', ['M_PI', 0, 0, 0])"
   ]
  },
  {
   "cell_type": "markdown",
   "metadata": {},
   "source": [
    "## Generate C++ codes of NMPC model\n",
    "Generate `nmpc_model.hpp` and `nmpc_model.cpp`, C++ source files of NMPC problem settings.  \n",
    "- `use_simplification`: The flag for simplification. If `True`, symbolic functions are simplified. However, if functions are too complicated, it takes too much time. Default is `False`.  \n",
    "- `use_case`: The flag for common subexpression elimination. If `True`, common subexpressions in fxu, phix, hx, and hu are eliminated when `nmpc_model.cpp` is generated. Default is `False`. "
   ]
  },
  {
   "cell_type": "code",
   "execution_count": null,
   "metadata": {},
   "outputs": [],
   "source": [
    "use_simplification = False\n",
    "use_cse = True\n",
    "\n",
    "ag.generate_source_files(use_simplification, use_cse)"
   ]
  },
  {
   "cell_type": "markdown",
   "metadata": {},
   "source": [
    "---  \n",
    "# Generate C++ codes for numerical simulation  "
   ]
  },
  {
   "cell_type": "markdown",
   "metadata": {},
   "source": [
    "## Set solvers  \n",
    "Set which solvers you use.\n",
    "- `ContinuationGMRES` : The continuation/GMRES method (the original C/GMRES method, single shooting).\n",
    "- `MultipleShootingCGMRES` : The multiple shooting based C/GMRES method with condensing of the state and the Lagragne multipliers with respect to the state equation.\n",
    "- `MSCGMRESWithInputSaturation` : The multiple shooting based C/GMRES method with condensing of the state, the Lagragne multipliers with respect to the state equation, and variables with respect to the constraints on the saturation function on the control input.   \n",
    "\n",
    "Note that if you have to define the solver type as `autogenu.SolverType.ContinuationGMRES`, `autogenu.SolverType.MultipleShootingCGMRES`, or `autogenu.SolverType.MSCGMRESWithInputSaturation`"
   ]
  },
  {
   "cell_type": "code",
   "execution_count": null,
   "metadata": {},
   "outputs": [],
   "source": [
    "solver_type = autogenu.SolverType.MSCGMRESWithInputSaturation\n",
    "ag.set_solver_type(solver_type)"
   ]
  },
  {
   "cell_type": "markdown",
   "metadata": {},
   "source": [
    "## Set saturaions on the control input if you choose `MSCGMRESWithInputSaturation`\n",
    "- Saturation on the control input: $u_{i, {\\rm min}} \\leq u_i \\leq u_{i, {\\rm max}}$  \n",
    "$u_i \\in \\mathbb{R}$ : a constrained component of the control input $u$  \n",
    "- Transformed equality constraint: $(u_i - \\frac{u_{i, {\\rm max}} + u_{i, {\\rm min}}}{2})^2 - ( \\frac{u_{i, {\\rm max}} - u_{i, {\\rm min}}}{2})^2 + {u_d}_i ^2 = 0$  \n",
    "${u_d}_i \\in \\mathbb{R}$ : a dummy input for the transformation of the saturation into the equality constraint  \n",
    "- Additional term in the stage cost $L(x, u)$ with respect to the saturation of $u_i$: $- {r_d}_i {u_d}_i + \\frac{1}{2} {r_q}_i {u_d}_i ^2$  \n",
    "   ${r_d}_i > 0$: a weight parameter to avoid failure of numerical computation, ${r_q}_i \\geq 0$: a weight parameter to increase mergin of the saturation  \n",
    "\n",
    "- Parameters:\n",
    "    - `index`: $i$  \n",
    "    - `u_min`: $u_{i, {\\rm min}}$  \n",
    "    - `u_max`: $u_{i, {\\rm max}}$   \n",
    "    - `dummy_weight`: ${r_d}_i > 0$  \n",
    "    - `quadratic_weight` :  ${r_q}_i \\geq 0$ "
   ]
  },
  {
   "cell_type": "code",
   "execution_count": null,
   "metadata": {},
   "outputs": [],
   "source": [
    "# Add saturation_list as follows.\n",
    "# ag.add_control_input_saturation(index , u_min, u_max, dummy_weight, quadratic_weight)\n",
    "ag.add_control_input_saturation(0, -5, 5, 0.1, 0)"
   ]
  },
  {
   "cell_type": "markdown",
   "metadata": {},
   "source": [
    "## Set parameters for the C/GMRES method\n",
    "\n",
    "- `T_f`, `alpha`: Parameters for the length of the horizon $T(t)$: $T(t) = T_f (1 - e^{-\\alpha t})$. The length of the horizon converges to `T_f` and the speed of the convergence is determied by `alpha`. \n",
    "- `N`: The division number of the horzion for the numerical computation.  \n",
    "- `finite_difference_increment`: Step length of a finite difference approximations of hessian-vector products in C/GMRES.   \n",
    "- `zeta`: A stabilization parameter of the C/GMRES method. Basically, must be set by the reciprocal of the sampling time.  \n",
    "- `kmax`: The maximam number of the iteration of the GMRES."
   ]
  },
  {
   "cell_type": "code",
   "execution_count": null,
   "metadata": {
    "code_folding": []
   },
   "outputs": [],
   "source": [
    "T_f = 1.0\n",
    "alpha = 1.0\n",
    "N = 50\n",
    "finite_difference_increment = 1.0e-08\n",
    "zeta = 1000  \n",
    "kmax = 3\n",
    "\n",
    "ag.set_solver_parameters(T_f, alpha, N, finite_difference_increment, zeta, kmax)"
   ]
  },
  {
   "cell_type": "markdown",
   "metadata": {},
   "source": [
    "## Set parameters for the initialization of the solution  \n",
    "- `solution_initial_guess`: The initial guess of the solution of the optimal control problem (OCP) for initialization of the solution of NMPC.   \n",
    "- `newton_residual_torelance`: The residual torelance of the solution of the OCP for the initialization of the solution of NMPC. The Newton iteration terminates when the optimality error is less than this velue.  \n",
    "- `max_newton_iteration`: The maxmum number of Newton iteration for the initialization of the solution of NMPC.  \n",
    "- `initial_Lagrange_multiplier`: An optional parameter for `MSCGMRESWithInputSaturation`. This is a part of the initial guess of the solution, the initial guess of the Lagrange multiplier with respect the constraints on the saturation function of the control input. NOTE that this parameter has to be defined as list. If you do not specify this parameter, the all of initial Lagrange multiplier are set by 1e-03."
   ]
  },
  {
   "cell_type": "code",
   "execution_count": null,
   "metadata": {},
   "outputs": [],
   "source": [
    "solution_initial_guess = [0.01]\n",
    "newton_residual_torelance = 1.0e-06\n",
    "max_newton_iteration = 50\n",
    "initial_Lagrange_multiplier = [0.01]\n",
    "\n",
    "ag.set_initialization_parameters(solution_initial_guess, newton_residual_torelance, max_newton_iteration, \n",
    "                                 initial_Lagrange_multiplier)"
   ]
  },
  {
   "cell_type": "markdown",
   "metadata": {},
   "source": [
    "## Set parameters for numerical simulation\n",
    "- `initial_time`: Initial time of the numerical simulation.  \n",
    "- `initial_state`: Initial state vector of the system.  \n",
    "- `simulation_time`: Simulation time of the numerical simulation.  \n",
    "- `sampling_time`: The sampling time of the numerical simulation."
   ]
  },
  {
   "cell_type": "code",
   "execution_count": null,
   "metadata": {},
   "outputs": [],
   "source": [
    "initial_time = 0  \n",
    "initial_state = [0, 0, 0, 0]  \n",
    "simulation_time = 10\n",
    "sampling_time = 0.001  \n",
    "\n",
    "ag.set_simulation_parameters(initial_time, initial_state, simulation_time, sampling_time)"
   ]
  },
  {
   "cell_type": "markdown",
   "metadata": {},
   "source": [
    "## Generate main.cpp and CMakeLists.txt"
   ]
  },
  {
   "cell_type": "code",
   "execution_count": null,
   "metadata": {
    "scrolled": true
   },
   "outputs": [],
   "source": [
    "ag.generate_main()\n",
    "ag.generate_cmake()"
   ]
  },
  {
   "cell_type": "markdown",
   "metadata": {},
   "source": [
    "## Build and run simulation\n",
    "\n",
    "- `generator`: An optional variable for Windows user to choose the generator of CMake. If 'MSYS', then 'MSYS Makefiles' is used. If 'MinGW', then 'MinGW Makefiles' is used. The default value is 'Auto' and the generator is selected automatically. If sh.exe exists in your PATH, MSYS is choosed, and otherwise MinGW is used. \n",
    "- `remove_build_dir`: If `True`, the existing build directory is removed. If `False`, the build directory is not removed. Need to be set `True` if you change the generator. Default is `False`."
   ]
  },
  {
   "cell_type": "code",
   "execution_count": null,
   "metadata": {},
   "outputs": [],
   "source": [
    "generator = 'Auto'  \n",
    "remove_build_dir = False\n",
    "ag.build(generator, remove_build_dir)\n",
    "ag.run_simulation()"
   ]
  },
  {
   "cell_type": "markdown",
   "metadata": {},
   "source": [
    "## Plot the simulation results"
   ]
  },
  {
   "cell_type": "code",
   "execution_count": null,
   "metadata": {},
   "outputs": [],
   "source": [
    "import autogenu.simulation_plottor as simplot"
   ]
  },
  {
   "cell_type": "code",
   "execution_count": null,
   "metadata": {},
   "outputs": [],
   "source": [
    "plot = simplot.SimulationPlottor(model_name)\n",
    "plot.set_scales(2,5,2)\n",
    "# plot.show_plots()\n",
    "plot.save_plots()"
   ]
  },
  {
   "cell_type": "markdown",
   "metadata": {},
   "source": [
    "## Draw animations of the simulation results"
   ]
  },
  {
   "cell_type": "code",
   "execution_count": null,
   "metadata": {},
   "outputs": [],
   "source": [
    "import autogenu.animation_generator as animgen"
   ]
  },
  {
   "cell_type": "code",
   "execution_count": null,
   "metadata": {},
   "outputs": [],
   "source": [
    "anim = animgen.TwoLinkArm(model_name)\n",
    "anim.set_skip_frames(10)\n",
    "anim.generate_animation()"
   ]
  }
 ],
 "metadata": {
  "kernelspec": {
   "display_name": "Python 3",
   "language": "python",
   "name": "python3"
  },
  "language_info": {
   "codemirror_mode": {
    "name": "ipython",
    "version": 3
   },
   "file_extension": ".py",
   "mimetype": "text/x-python",
   "name": "python",
   "nbconvert_exporter": "python",
   "pygments_lexer": "ipython3",
   "version": "3.6.9"
  },
  "toc": {
   "base_numbering": 1,
   "nav_menu": {},
   "number_sections": true,
   "sideBar": true,
   "skip_h1_title": false,
   "title_cell": "Table of Contents",
   "title_sidebar": "Contents",
   "toc_cell": false,
   "toc_position": {},
   "toc_section_display": true,
   "toc_window_display": false
  }
 },
 "nbformat": 4,
 "nbformat_minor": 4
}
