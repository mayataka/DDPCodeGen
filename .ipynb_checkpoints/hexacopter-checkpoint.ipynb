{
 "cells": [
  {
   "cell_type": "markdown",
   "metadata": {},
   "source": [
    "# AutoGenU for Jupyter\n",
    "\n",
    "An Automatic C++ Code Generator for Nonlinear Model Predictive Control (NMPC)  \n",
    "\n",
    "---  "
   ]
  },
  {
   "cell_type": "markdown",
   "metadata": {},
   "source": [
    "## Formulation of the optimal control problem: Hexacopter"
   ]
  },
  {
   "cell_type": "markdown",
   "metadata": {},
   "source": [
    "### Model description\n",
    "Let $(X, Y, Z)$ be a position of the center of the hexiacopter in the world frame, $(\\phi, \\theta, \\psi)$ be the Euler angle of the hexacopter in the world frame, respectively. We assume that we can control the thrust of the each rotor directly. Thus, we assume that the $i$th control input $u_i$ is the thrust of the corresponding rotor. The equation of the motion is derived by the Newton-Euler equations as \n",
    "$$ \\begin{bmatrix} \\ddot{X} \\\\ \\ddot{Y} \\\\ \\ddot{Z} \\\\ \\ddot{\\phi} \\\\ \\ddot{\\theta} \\\\ \\ddot{\\psi} \\end{bmatrix} = \\begin{bmatrix} (\\cos{\\psi} \\sin{\\theta} \\cos{\\phi} + \\sin{\\psi} \\sin{\\phi}) \\frac{U_1}{m} \\\\ (\\sin{\\psi} \\sin{\\theta} \\cos{\\phi} - \\cos{\\psi} \\sin{\\phi}) \\frac{U_1}{m} \\\\ -g + (\\cos{\\theta} \\cos{\\phi}) \\frac{U_1}{m}  \\\\ \\frac{I_{YY} - I_{ZZ}}{I_{XX}} \\dot{\\theta} \\dot{\\psi} + \\frac{U_2}{I_{XX}} \\\\ \\frac{I_{ZZ} - I_{XX}}{I_{YY}} \\dot{\\psi} \\dot{\\phi} + \\frac{U_3}{I_{YY}} \\\\ \\frac{I_{XX} - I_{YY}}{I_{ZZ}} \\dot{\\phi} \\dot{\\theta} + \\frac{U_4}{I_{ZZ}} \\end{bmatrix} , $$\n",
    "where\n",
    "$$ U_1 = \\sum_{i=1}^{6} u_i ,$$\n",
    "$$ U_2 = l(-\\frac{u_1}{2} - u_2 - \\frac{u_3}{2} + \\frac{u_4}{2} + u_5 + \\frac{u_6}{2} ) ,$$\n",
    "$$ U_3 = l(- \\frac{\\sqrt{3}}{2} u_1 + \\frac{\\sqrt{3}}{2} u_3 + \\frac{\\sqrt{3}}{2} u_4 - \\frac{\\sqrt{3}}{2} u_6) , $$\n",
    "$$ U_4 = k(-u_1 + u_1 - u_2 + u_3 - u_4 + u_5) - \\gamma \\dot{\\psi} .$$\n",
    "We also assume that the thrust of the each rotor is limited as  \n",
    "$$u_{\\rm min} \\leq u_i \\leq u_{\\rm max} , i= 1, ..., 6,  $$\n",
    "where $u_{\\rm min}, u_{\\rm max} \\in \\mathbb{R}$.\n",
    "\n",
    "### Formulation of the optimal control problem\n",
    "We define the state vector as\n",
    "$$ x = \\begin{bmatrix} {X} & {Y} & {Z} & {\\phi} & {\\theta} & {\\psi} & \\dot{X} & \\dot{Y} & \\dot{Z} & \\dot{\\phi} & \\dot{\\theta} & \\dot{\\psi} \\end{bmatrix}^{\\rm T} .$$\n",
    "The state equation is then given as \n",
    "$$\\dot{x} = f(t, x, u) = \\begin{bmatrix} \\dot{X} \\\\ \\dot{Y} \\\\ \\dot{Z} \\\\ \\dot{\\phi} \\\\ \\dot{\\theta} \\\\ \\dot{\\psi} \\\\ (\\cos{\\psi} \\sin{\\theta} \\cos{\\phi} + \\sin{\\psi} \\sin{\\phi}) \\frac{U_1}{m} \\\\ (\\sin{\\psi} \\sin{\\theta} \\cos{\\phi} - \\cos{\\psi} \\sin{\\phi}) \\frac{U_1}{m} \\\\ -g + (\\cos{\\theta} \\cos{\\phi}) \\frac{U_1}{m}  \\\\ \\frac{I_{YY} - I_{ZZ}}{I_{XX}} \\dot{\\theta} \\dot{\\psi} + \\frac{U_2}{I_{XX}} \\\\ \\frac{I_{ZZ} - I_{XX}}{I_{YY}} \\dot{\\psi} \\dot{\\phi} + \\frac{U_3}{I_{YY}} \\\\ \\frac{I_{XX} - I_{YY}}{I_{ZZ}} \\dot{\\phi} \\dot{\\theta} + \\frac{U_4}{I_{ZZ}} \\end{bmatrix} .$$\n",
    "In this problem, we consider the inequality constraints using the barrier function method. In the barrier function method, an inequality constraint \n",
    "$$ C(t, x, u) \\geq 0 $$\n",
    "is considered by adding the following berrier function to the cost function\n",
    "$$ - \\epsilon \\ln\\left(\\frac{1}{C(t, x, u)}\\right), $$\n",
    "where $\\epsilon$ is a sufficient small positive constant. In this problem, we add barrier functions given by\n",
    "$$ b(u) :=  - \\epsilon \\sum_{i=1}^{6} \\ln\\left(\\frac{1}{u_{\\rm max} - u_i}\\right) - \\epsilon \\sum_{i=1}^{6} \\ln\\left(\\frac{1}{u_i - u_{\\rm min}}\\right)  $$\n",
    "to the stage cost in the cost function. Next, we design the cost function \n",
    "$$ J = \\varphi(t, x) + \\int_{t}^{t+T} L(t, x, u) .$$\n",
    "The objective is to make the hexacopter track a reference trajectory. We assume that the reference trajectory is given as \n",
    "$$ p_{\\rm ref} (t) := \\begin{bmatrix} X_{\\rm ref} (t) \\\\ Y_{\\rm ref} (t) \\\\ Z_{\\rm ref} (t) \\end{bmatrix} = \\begin{bmatrix} \\sin{2t} \\\\ 1-\\cos{2t} \\\\ z_0 + 2 \\sin{t} \\end{bmatrix} , $$\n",
    "where $z_0$ is a positive real constant. We define a time-dependent vector valued function\n",
    "$$ x_{\\rm ref} (t) := \\begin{bmatrix} p_{\\rm ref} (t) \\\\ \\dot{p}_{\\rm ref} (t) \\\\ 0_3 \\\\ 0_3 \\end{bmatrix} , $$\n",
    "where $0_3$ is a 3-dimensional zero vector. To make the hexacopter track $p_{\\rm ref}$, we set the terminal cost as\n",
    "$$\\varphi(t,x) = \\frac{1}{2} (x - x_{\\rm ref}(t))^{\\rm T} Q_{\\rm terminal} (x - x_{\\rm ref}(t)) ,$$  \n",
    "where $Q_{\\rm terminal} = {\\rm diag}\\left\\{ {q_{\\rm terminal}}_1, ... ,{q_{\\rm terminal}}_{12} \\right\\}$ and ${q_{\\rm terminal}}_1, ..., {q_{\\rm terminal}}_{12}$ are positive real constants. We also set the stage cost as  \n",
    "$$L(t, x, u) = \\frac{1}{2} (x - x_{\\rm ref}(t))^{\\rm T} Q (x - x_{\\rm ref}) + \\frac{1}{2} (u - u_{\\rm ref}(t))^{\\rm T} R (x - u_{\\rm ref}) + b(u),$$  \n",
    "where $Q = {\\rm diag} \\left\\{ q_1, ..., q_{12} \\right\\}$ with positive real constants $q_1, ..., q_{12}$, $R = {\\rm diag} \\left\\{ r_1, ..., r_{6} \\right\\}$ with positive real constants $r_1, ..., r_{6}$, $u_{\\rm ref} \\in \\mathbb{R}^6$ is given by\n",
    "$$ u_{\\rm ref} := \\begin{bmatrix} \\frac{mg}{6} \\\\ \\frac{mg}{6} \\\\ \\frac{mg}{6} \\\\ \\frac{mg}{6} \\\\ \\frac{mg}{6} \\\\ \\frac{mg}{6} \\end{bmatrix} .$$\n",
    "\n",
    "\n",
    "### Numerical solver of NMPC\n",
    "In the following example, we compute the solution of NMPC using the multiple shooting based C/GMRES method with condensing variables with respect to the state.\n",
    "\n",
    "### Reference\n",
    "The derivative of the model of the hexacopter is reference to [1] and [2]. The paremeters of the hexacopter in the following numerical simulation are based on [1].\n",
    "1. [Y. Aoki et.al., Nonlinear Model Predictive Control of Position and Attitude in a Hexacopter with Three Failed Rotors, IFAC-PapersOnLine, Vol. 51, No. 20, pp. 228-233 (2018)](https://doi.org/10.1016/j.ifacol.2018.11.018)\n",
    "2. [M. Moussid et.al., Dynamic Modeling and Control of a HexaRotor using Linear and Nonlinear Methods, International Journal of Applied Information Systems, Vol. 9, No. 5, pp. 9-17 (2015)](https://doi.org/10.5120/ijais2015451411)"
   ]
  },
  {
   "cell_type": "markdown",
   "metadata": {},
   "source": [
    "---\n",
    "\n",
    "# Generate C++ codes of NMPC model  "
   ]
  },
  {
   "cell_type": "markdown",
   "metadata": {},
   "source": [
    "## Import modules"
   ]
  },
  {
   "cell_type": "code",
   "execution_count": 1,
   "metadata": {},
   "outputs": [],
   "source": [
    "from autogenu import autogenu"
   ]
  },
  {
   "cell_type": "markdown",
   "metadata": {},
   "source": [
    "## Set dimensions and define `AutoGenU`\n",
    "- `dimx`: Dimension of the state vector $x$   \n",
    "- `dimu`: Dimension of the control input vector $u$  \n",
    "- `model_name`: Name of the model. Used as the name of the directory containing the generated C++ source files."
   ]
  },
  {
   "cell_type": "code",
   "execution_count": 2,
   "metadata": {},
   "outputs": [],
   "source": [
    "dimx = 12\n",
    "dimu = 6\n",
    "model_name = 'hexacopter'\n",
    "ag = autogenu.AutoGenU(model_name, dimx, dimu)"
   ]
  },
  {
   "cell_type": "markdown",
   "metadata": {},
   "source": [
    "## Generate t, x, and u, necessary variables to formulate of the optimal control problem\n",
    "- `t`: Time parameter $t$  \n",
    "- `x`: The state vector $x$  \n",
    "- `u`: The control input vector $u$  "
   ]
  },
  {
   "cell_type": "code",
   "execution_count": 3,
   "metadata": {},
   "outputs": [],
   "source": [
    "t = ag.define_t()\n",
    "x = ag.define_x()\n",
    "u = ag.define_u()"
   ]
  },
  {
   "cell_type": "markdown",
   "metadata": {},
   "source": [
    "## Define variables used in the state equation, constraints, and cost function\n",
    "- Define a scalar variable whose name is \"var\" as  \n",
    "`var = ag.define_scalar_var('var') `\n",
    "\n",
    "- Define scalar variables whose names are \"var\\_1\", \"var\\_2\", ..., \"var\\_n\" as  \n",
    "`var_1, var_2, ..., var_n = ag.define_scalar_vars('var_1', 'var_2', ..., 'var_n')`\n",
    "\n",
    "- Define array variables whose name is \"vec\" and dimension is dim_vec as  \n",
    "`vec = ag.define_array_var('vec', dim_vec)`"
   ]
  },
  {
   "cell_type": "code",
   "execution_count": 4,
   "metadata": {},
   "outputs": [],
   "source": [
    "# Variables used in the state function and cost function\n",
    "m, l, k, Ixx, Iyy, Izz, gamma, g = ag.define_scalar_vars('m', 'l', 'k', 'Ixx', 'Iyy', 'Izz', 'gamma', 'g')\n",
    "\n",
    "# Variables used in the cost function\n",
    "z_ref, u_min, u_max, epsilon = ag.define_scalar_vars('z_ref', 'u_min', 'u_max', 'epsilon')\n",
    "q = ag.define_array_var('q', dimx)\n",
    "q_terminal = ag.define_array_var('q_terminal', dimx)\n",
    "r = ag.define_array_var('r', dimu)"
   ]
  },
  {
   "cell_type": "markdown",
   "metadata": {},
   "source": [
    "## Define the state equation, constraints, the stage cost, and the terminal cost\n",
    "- `f`: The state equation $ f(t, x, u)$  \n",
    "- `C`: The equality constraisnts $C(t, x, u) = 0 $  \n",
    "- `h`: The inequality constraisnts $h(t, x, u) \\leq 0$ considered by semi-smooth Fischer-Burumeister method  \n",
    "- `L`: The stage cost $L(t, x, u)$  \n",
    "- `phi`: The terminal cost $\\phi (t, x)$  \n",
    "\n",
    "Note: array indices start with 0"
   ]
  },
  {
   "cell_type": "code",
   "execution_count": 5,
   "metadata": {},
   "outputs": [],
   "source": [
    "# Import symbolic math from sympy. If you need more functions, import same as below.\n",
    "from sympy import sin, cos, tan, exp, log, ln, sinh, cosh, tanh, diff, sqrt"
   ]
  },
  {
   "cell_type": "code",
   "execution_count": 6,
   "metadata": {},
   "outputs": [],
   "source": [
    "# Time-variant reference trajectory\n",
    "xyz_ref = [sin(2*t), (1-cos(2*t)), z_ref + 2*sin(t)]\n",
    "xyz_ref_diff = [diff(xyz_ref[i], t) for i in range(len(xyz_ref))]\n",
    "\n",
    "\n",
    "# propeller's input transformation\n",
    "U1 = sum(u[i] for i in range(dimu))\n",
    "U2 = l*(-u[0]/2 - u[1] - u[2]/2 + u[3]/2 + u[4]+ u[5]/2)\n",
    "U3 = l*(-(sqrt(3)/2)*u[0] + (sqrt(3)/2)*u[2] + (sqrt(3)/2)*u[3] - (sqrt(3)/2)*u[5])\n",
    "U4 = k*(-u[0] + u[1] - u[2] + u[3] - u[4] + u[5]) - gamma * x[11]\n",
    "\n",
    "# Define the state equation\n",
    "f = [x[6],\n",
    "     x[7],\n",
    "     x[8],\n",
    "     x[9],\n",
    "     x[10],\n",
    "     x[11],\n",
    "     (cos(x[5])*sin(x[4])*cos(x[3]) + sin(x[5])*sin(x[3]))*U1/m,\n",
    "     (sin(x[5])*sin(x[4])*cos(x[3]) - cos(x[5])*sin(x[3]))*U1/m,\n",
    "      -g + (cos(x[3])*cos(x[4]))*U1/m,\n",
    "     ((Iyy-Izz)/Ixx)*x[10]*x[11] + U2/Ixx,\n",
    "     ((Izz-Ixx)/Iyy)*x[9]*x[11] + U3/Iyy,\n",
    "     ((Ixx-Iyy)/Izz)*x[9]*x[10] + U4/Izz]\n",
    "\n",
    "# Define the constraints (if dimc > 0)\n",
    "C = []\n",
    "\n",
    "# Define the inequality constraints h(x, u) <= 0 (if dimh > 0) considered using the semi-smooth Fischer-Burmeister method\n",
    "h = []\n",
    "\n",
    "# Define the stage cost\n",
    "u_ref = (m*g)/6\n",
    "u_barrier = sum(-ln(u[i]-u_min) - ln(u_max-u[i]) for i in range(dimu))\n",
    "L = sum((q[i]*(x[i]-xyz_ref[i])**2)/2 for i in range(3)) + sum((q[i]*x[i]**2)/2 for i in range(3, 6))+ sum((q[i+6]*(x[i+6]-xyz_ref_diff[i])**2)/2 for i in range(3)) + sum((q[i]*x[i]**2)/2 for i in range(9, 12)) + sum(r[i] * (u[i]-u_ref)**2 for i in range(dimu))/2 + epsilon * u_barrier \n",
    "\n",
    "# Define the terminal cost\n",
    "phi = sum((q_terminal[i]*(x[i]-xyz_ref[i])**2)/2 for i in range(3)) + sum((q_terminal[i]*x[i]**2)/2 for i in range(3, 6))+ sum((q_terminal[i+6]*(x[i+6]-xyz_ref_diff[i])**2)/2 for i in range(3)) + sum((q_terminal[i]*x[i]**2)/2 for i in range(9, 12))"
   ]
  },
  {
   "cell_type": "code",
   "execution_count": 7,
   "metadata": {},
   "outputs": [],
   "source": [
    "# Set functions\n",
    "ag.set_functions(f, L, phi)"
   ]
  },
  {
   "cell_type": "markdown",
   "metadata": {},
   "source": [
    "## Set Parameters\n",
    "Set values for all parameters you defined.\n",
    "- Set `value` for a scalar variable whose name is \"var\" as  \n",
    "`ag.set_scalar_var('var', value) `\n",
    "\n",
    "- Set `value_1`, `value_2`, ..., `value_n`, for scalar variables whose names are \"var\\_1\", \"var\\_2\", ..., \"var\\_n\" as  \n",
    "`ag.set_scalar_vars(['var_1', value_1], ['var_2', value_2], ..., ['var_n', value_n])`\n",
    "\n",
    "- Set array variables `var_1`, `var_2`, ..., `var_n` whose name is \"vec\" and dimension is n as  \n",
    "`ag.define_array_var('vec', [var_1, var_2, ..., var_n])`"
   ]
  },
  {
   "cell_type": "code",
   "execution_count": 8,
   "metadata": {},
   "outputs": [],
   "source": [
    "ag.set_scalar_vars(['m', 1.44], ['l', 0.23], ['k', 1.6e-09],  \n",
    "                   ['Ixx', 0.0348], ['Iyy', 0.0459], ['Izz', 0.0977], \n",
    "                   ['gamma', 0.01], ['g', 9.80665], \n",
    "                   ['z_ref', 5], ['u_min', 0.144], ['u_max', 6], ['epsilon', 0.01])\n",
    "ag.set_array_var('q', [1, 1, 1, 0.01, 0.01, 0, 0.01, 0.01, 0.01, 0.1, 0.1, 0.001])\n",
    "ag.set_array_var('r', [0.01, 0.01, 0.01, 0.01, 0.01, 0.01])\n",
    "ag.set_array_var('q_terminal', [1, 1, 1, 0.01, 0.01, 0, 0.01, 0.01, 0.01, 0.1, 0.1, 0.001])"
   ]
  },
  {
   "cell_type": "markdown",
   "metadata": {},
   "source": [
    "## Generate C++ codes of NMPC model\n",
    "Generate `nmpc_model.hpp` and `nmpc_model.cpp`, C++ source files of NMPC problem settings.  \n",
    "- `use_simplification`: The flag for simplification. If `True`, symbolic functions are simplified. However, if functions are too complicated, it takes too much time. Default is `False`.  \n",
    "- `use_case`: The flag for common subexpression elimination. If `True`, common subexpressions in fxu, phix, hx, and hu are eliminated when `nmpc_model.cpp` is generated. Default is `False`. "
   ]
  },
  {
   "cell_type": "code",
   "execution_count": 9,
   "metadata": {},
   "outputs": [],
   "source": [
    "use_simplification = False\n",
    "use_cse = True\n",
    "\n",
    "ag.generate_source_files(use_simplification, use_cse)"
   ]
  },
  {
   "cell_type": "markdown",
   "metadata": {},
   "source": [
    "---  \n",
    "# Generate C++ codes for numerical simulation  "
   ]
  },
  {
   "cell_type": "markdown",
   "metadata": {},
   "source": [
    "## Set parameters for the C/GMRES method\n",
    "\n",
    "- `T_f`, `alpha`: Parameters for the length of the horizon $T(t)$: $T(t) = T_f (1 - e^{-\\alpha t})$. The length of the horizon converges to `T_f` and the speed of the convergence is determied by `alpha`. \n",
    "- `N`: The division number of the horzion for the numerical computation.  \n",
    "- `finite_difference_increment`: Step length of a finite difference approximations of hessian-vector products in C/GMRES.   \n",
    "- `zeta`: A stabilization parameter of the C/GMRES method. Basically, must be set by the reciprocal of the sampling time.  \n",
    "- `kmax`: The maximam number of the iteration of the GMRES."
   ]
  },
  {
   "cell_type": "code",
   "execution_count": 10,
   "metadata": {
    "code_folding": []
   },
   "outputs": [],
   "source": [
    "T_f = 1.0\n",
    "alpha = 1.0\n",
    "N = 50\n",
    "\n",
    "ag.set_solver_parameters(T_f, alpha, N)"
   ]
  },
  {
   "cell_type": "markdown",
   "metadata": {},
   "source": [
    "## Set parameters for the initialization of the solution  \n",
    "- `solution_initial_guess`: The initial guess of the solution of the optimal control problem (OCP) for initialization of the solution of NMPC.  "
   ]
  },
  {
   "cell_type": "code",
   "execution_count": 11,
   "metadata": {},
   "outputs": [
    {
     "ename": "NameError",
     "evalue": "name 'ssolution_initial_guess' is not defined",
     "output_type": "error",
     "traceback": [
      "\u001b[0;31m---------------------------------------------------------------------------\u001b[0m",
      "\u001b[0;31mNameError\u001b[0m                                 Traceback (most recent call last)",
      "\u001b[0;32m<ipython-input-11-a5220178635d>\u001b[0m in \u001b[0;36m<module>\u001b[0;34m\u001b[0m\n\u001b[1;32m      1\u001b[0m \u001b[0msolution_initial_guess\u001b[0m \u001b[0;34m=\u001b[0m \u001b[0;34m[\u001b[0m\u001b[0;36m1\u001b[0m\u001b[0;34m,\u001b[0m \u001b[0;36m1\u001b[0m\u001b[0;34m,\u001b[0m \u001b[0;36m1\u001b[0m\u001b[0;34m,\u001b[0m \u001b[0;36m1\u001b[0m\u001b[0;34m,\u001b[0m \u001b[0;36m1\u001b[0m\u001b[0;34m,\u001b[0m \u001b[0;36m1\u001b[0m\u001b[0;34m]\u001b[0m\u001b[0;34m\u001b[0m\u001b[0;34m\u001b[0m\u001b[0m\n\u001b[0;32m----> 2\u001b[0;31m \u001b[0mag\u001b[0m\u001b[0;34m.\u001b[0m\u001b[0mset_solution_initial_guess\u001b[0m\u001b[0;34m(\u001b[0m\u001b[0mssolution_initial_guess\u001b[0m\u001b[0;34m)\u001b[0m\u001b[0;34m\u001b[0m\u001b[0;34m\u001b[0m\u001b[0m\n\u001b[0m",
      "\u001b[0;31mNameError\u001b[0m: name 'ssolution_initial_guess' is not defined"
     ]
    }
   ],
   "source": [
    "solution_initial_guess = [1, 1, 1, 1, 1, 1]\n",
    "ag.set_solution_initial_guess(solution_initial_guess)"
   ]
  },
  {
   "cell_type": "markdown",
   "metadata": {},
   "source": [
    "## Set parameters for numerical simulation\n",
    "- `initial_time`: Initial time of the numerical simulation.  \n",
    "- `initial_state`: Initial state vector of the system.  \n",
    "- `simulation_time`: Simulation time of the numerical simulation.  \n",
    "- `sampling_time`: The sampling time of the numerical simulation."
   ]
  },
  {
   "cell_type": "code",
   "execution_count": null,
   "metadata": {},
   "outputs": [],
   "source": [
    "initial_time = 0  \n",
    "initial_state = [0, 0, 0, 0, 0, 0, 0, 0, 0, 0, 0, 0]  \n",
    "simulation_time = 10\n",
    "sampling_time = 0.001  \n",
    "\n",
    "ag.set_simulation_parameters(initial_time, initial_state, simulation_time, sampling_time)"
   ]
  },
  {
   "cell_type": "markdown",
   "metadata": {},
   "source": [
    "## Generate main.cpp and CMakeLists.txt"
   ]
  },
  {
   "cell_type": "code",
   "execution_count": null,
   "metadata": {
    "scrolled": true
   },
   "outputs": [],
   "source": [
    "ag.generate_main()\n",
    "ag.generate_cmake()"
   ]
  },
  {
   "cell_type": "markdown",
   "metadata": {},
   "source": [
    "## Build and run simulation\n",
    "\n",
    "- `generator`: An optional variable for Windows user to choose the generator of CMake. If 'MSYS', then 'MSYS Makefiles' is used. If 'MinGW', then 'MinGW Makefiles' is used. The default value is 'Auto' and the generator is selected automatically. If sh.exe exists in your PATH, MSYS is choosed, and otherwise MinGW is used. \n",
    "- `remove_build_dir`: If `True`, the existing build directory is removed. If `False`, the build directory is not removed. Need to be set `True` if you change the generator. Default is `False`."
   ]
  },
  {
   "cell_type": "code",
   "execution_count": null,
   "metadata": {},
   "outputs": [],
   "source": [
    "generator = 'Auto'  \n",
    "remove_build_dir = False\n",
    "ag.build(generator, remove_build_dir)\n",
    "ag.run_simulation()"
   ]
  },
  {
   "cell_type": "markdown",
   "metadata": {},
   "source": [
    "## Plot the simulation results"
   ]
  },
  {
   "cell_type": "code",
   "execution_count": null,
   "metadata": {},
   "outputs": [],
   "source": [
    "import autogenu.simulation_plottor as simplot"
   ]
  },
  {
   "cell_type": "code",
   "execution_count": null,
   "metadata": {},
   "outputs": [],
   "source": [
    "plottor = simplot.SimulationPlottor(model_name)\n",
    "plottor.set_scales(2,5,3)\n",
    "#plottor.show_plots()\n",
    "plottor.save_plots()"
   ]
  },
  {
   "cell_type": "markdown",
   "metadata": {},
   "source": [
    "## Draw animations of the simulation results"
   ]
  },
  {
   "cell_type": "code",
   "execution_count": null,
   "metadata": {},
   "outputs": [],
   "source": [
    "import autogenu.animation_generator as animgen"
   ]
  },
  {
   "cell_type": "code",
   "execution_count": null,
   "metadata": {},
   "outputs": [],
   "source": [
    "anim = animgen.Hexacopter(model_name)\n",
    "anim.set_skip_frames(10)\n",
    "anim.generate_animation()"
   ]
  }
 ],
 "metadata": {
  "kernelspec": {
   "display_name": "Python 3",
   "language": "python",
   "name": "python3"
  },
  "language_info": {
   "codemirror_mode": {
    "name": "ipython",
    "version": 3
   },
   "file_extension": ".py",
   "mimetype": "text/x-python",
   "name": "python",
   "nbconvert_exporter": "python",
   "pygments_lexer": "ipython3",
   "version": "3.6.9"
  },
  "toc": {
   "base_numbering": 1,
   "nav_menu": {},
   "number_sections": true,
   "sideBar": true,
   "skip_h1_title": false,
   "title_cell": "Table of Contents",
   "title_sidebar": "Contents",
   "toc_cell": false,
   "toc_position": {},
   "toc_section_display": true,
   "toc_window_display": false
  }
 },
 "nbformat": 4,
 "nbformat_minor": 4
}
